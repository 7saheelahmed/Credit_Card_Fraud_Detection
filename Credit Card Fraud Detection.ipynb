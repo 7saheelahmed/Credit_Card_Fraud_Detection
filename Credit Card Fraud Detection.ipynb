{
 "cells": [
  {
   "cell_type": "markdown",
   "metadata": {},
   "source": [
    "# Credit Card Fraud Detection\n",
    "\n",
    "### This dataset is a part of Kaggle competion meant to predict fradulant and non fraudulant credit card transactions. This dataset is quite big as it contains more than 284K rows along with 31 columns .  "
   ]
  },
  {
   "cell_type": "code",
   "execution_count": 25,
   "metadata": {},
   "outputs": [],
   "source": [
    "# importing packages and libraries\n",
    "import pandas as pd\n",
    "import numpy as np\n",
    "import matplotlib.pyplot as plt\n",
    "import seaborn as sns\n",
    "from imblearn.over_sampling import SMOTE\n",
    "from sklearn.ensemble import RandomForestClassifier\n",
    "from sklearn.model_selection import train_test_split\n",
    "from sklearn.metrics import confusion_matrix,recall_score,precision_recall_curve,auc,roc_curve,roc_auc_score,classification_report\n",
    "\n",
    "%matplotlib inline"
   ]
  },
  {
   "cell_type": "code",
   "execution_count": 26,
   "metadata": {},
   "outputs": [
    {
     "data": {
      "text/html": [
       "<div>\n",
       "<style scoped>\n",
       "    .dataframe tbody tr th:only-of-type {\n",
       "        vertical-align: middle;\n",
       "    }\n",
       "\n",
       "    .dataframe tbody tr th {\n",
       "        vertical-align: top;\n",
       "    }\n",
       "\n",
       "    .dataframe thead th {\n",
       "        text-align: right;\n",
       "    }\n",
       "</style>\n",
       "<table border=\"1\" class=\"dataframe\">\n",
       "  <thead>\n",
       "    <tr style=\"text-align: right;\">\n",
       "      <th></th>\n",
       "      <th>Time</th>\n",
       "      <th>V1</th>\n",
       "      <th>V2</th>\n",
       "      <th>V3</th>\n",
       "      <th>V4</th>\n",
       "      <th>V5</th>\n",
       "      <th>V6</th>\n",
       "      <th>V7</th>\n",
       "      <th>V8</th>\n",
       "      <th>V9</th>\n",
       "      <th>...</th>\n",
       "      <th>V21</th>\n",
       "      <th>V22</th>\n",
       "      <th>V23</th>\n",
       "      <th>V24</th>\n",
       "      <th>V25</th>\n",
       "      <th>V26</th>\n",
       "      <th>V27</th>\n",
       "      <th>V28</th>\n",
       "      <th>Amount</th>\n",
       "      <th>Class</th>\n",
       "    </tr>\n",
       "  </thead>\n",
       "  <tbody>\n",
       "    <tr>\n",
       "      <th>0</th>\n",
       "      <td>0.0</td>\n",
       "      <td>-1.359807</td>\n",
       "      <td>-0.072781</td>\n",
       "      <td>2.536347</td>\n",
       "      <td>1.378155</td>\n",
       "      <td>-0.338321</td>\n",
       "      <td>0.462388</td>\n",
       "      <td>0.239599</td>\n",
       "      <td>0.098698</td>\n",
       "      <td>0.363787</td>\n",
       "      <td>...</td>\n",
       "      <td>-0.018307</td>\n",
       "      <td>0.277838</td>\n",
       "      <td>-0.110474</td>\n",
       "      <td>0.066928</td>\n",
       "      <td>0.128539</td>\n",
       "      <td>-0.189115</td>\n",
       "      <td>0.133558</td>\n",
       "      <td>-0.021053</td>\n",
       "      <td>149.62</td>\n",
       "      <td>0</td>\n",
       "    </tr>\n",
       "    <tr>\n",
       "      <th>1</th>\n",
       "      <td>0.0</td>\n",
       "      <td>1.191857</td>\n",
       "      <td>0.266151</td>\n",
       "      <td>0.166480</td>\n",
       "      <td>0.448154</td>\n",
       "      <td>0.060018</td>\n",
       "      <td>-0.082361</td>\n",
       "      <td>-0.078803</td>\n",
       "      <td>0.085102</td>\n",
       "      <td>-0.255425</td>\n",
       "      <td>...</td>\n",
       "      <td>-0.225775</td>\n",
       "      <td>-0.638672</td>\n",
       "      <td>0.101288</td>\n",
       "      <td>-0.339846</td>\n",
       "      <td>0.167170</td>\n",
       "      <td>0.125895</td>\n",
       "      <td>-0.008983</td>\n",
       "      <td>0.014724</td>\n",
       "      <td>2.69</td>\n",
       "      <td>0</td>\n",
       "    </tr>\n",
       "    <tr>\n",
       "      <th>2</th>\n",
       "      <td>1.0</td>\n",
       "      <td>-1.358354</td>\n",
       "      <td>-1.340163</td>\n",
       "      <td>1.773209</td>\n",
       "      <td>0.379780</td>\n",
       "      <td>-0.503198</td>\n",
       "      <td>1.800499</td>\n",
       "      <td>0.791461</td>\n",
       "      <td>0.247676</td>\n",
       "      <td>-1.514654</td>\n",
       "      <td>...</td>\n",
       "      <td>0.247998</td>\n",
       "      <td>0.771679</td>\n",
       "      <td>0.909412</td>\n",
       "      <td>-0.689281</td>\n",
       "      <td>-0.327642</td>\n",
       "      <td>-0.139097</td>\n",
       "      <td>-0.055353</td>\n",
       "      <td>-0.059752</td>\n",
       "      <td>378.66</td>\n",
       "      <td>0</td>\n",
       "    </tr>\n",
       "    <tr>\n",
       "      <th>3</th>\n",
       "      <td>1.0</td>\n",
       "      <td>-0.966272</td>\n",
       "      <td>-0.185226</td>\n",
       "      <td>1.792993</td>\n",
       "      <td>-0.863291</td>\n",
       "      <td>-0.010309</td>\n",
       "      <td>1.247203</td>\n",
       "      <td>0.237609</td>\n",
       "      <td>0.377436</td>\n",
       "      <td>-1.387024</td>\n",
       "      <td>...</td>\n",
       "      <td>-0.108300</td>\n",
       "      <td>0.005274</td>\n",
       "      <td>-0.190321</td>\n",
       "      <td>-1.175575</td>\n",
       "      <td>0.647376</td>\n",
       "      <td>-0.221929</td>\n",
       "      <td>0.062723</td>\n",
       "      <td>0.061458</td>\n",
       "      <td>123.50</td>\n",
       "      <td>0</td>\n",
       "    </tr>\n",
       "    <tr>\n",
       "      <th>4</th>\n",
       "      <td>2.0</td>\n",
       "      <td>-1.158233</td>\n",
       "      <td>0.877737</td>\n",
       "      <td>1.548718</td>\n",
       "      <td>0.403034</td>\n",
       "      <td>-0.407193</td>\n",
       "      <td>0.095921</td>\n",
       "      <td>0.592941</td>\n",
       "      <td>-0.270533</td>\n",
       "      <td>0.817739</td>\n",
       "      <td>...</td>\n",
       "      <td>-0.009431</td>\n",
       "      <td>0.798278</td>\n",
       "      <td>-0.137458</td>\n",
       "      <td>0.141267</td>\n",
       "      <td>-0.206010</td>\n",
       "      <td>0.502292</td>\n",
       "      <td>0.219422</td>\n",
       "      <td>0.215153</td>\n",
       "      <td>69.99</td>\n",
       "      <td>0</td>\n",
       "    </tr>\n",
       "  </tbody>\n",
       "</table>\n",
       "<p>5 rows × 31 columns</p>\n",
       "</div>"
      ],
      "text/plain": [
       "   Time        V1        V2        V3        V4        V5        V6        V7  \\\n",
       "0   0.0 -1.359807 -0.072781  2.536347  1.378155 -0.338321  0.462388  0.239599   \n",
       "1   0.0  1.191857  0.266151  0.166480  0.448154  0.060018 -0.082361 -0.078803   \n",
       "2   1.0 -1.358354 -1.340163  1.773209  0.379780 -0.503198  1.800499  0.791461   \n",
       "3   1.0 -0.966272 -0.185226  1.792993 -0.863291 -0.010309  1.247203  0.237609   \n",
       "4   2.0 -1.158233  0.877737  1.548718  0.403034 -0.407193  0.095921  0.592941   \n",
       "\n",
       "         V8        V9  ...         V21       V22       V23       V24  \\\n",
       "0  0.098698  0.363787  ...   -0.018307  0.277838 -0.110474  0.066928   \n",
       "1  0.085102 -0.255425  ...   -0.225775 -0.638672  0.101288 -0.339846   \n",
       "2  0.247676 -1.514654  ...    0.247998  0.771679  0.909412 -0.689281   \n",
       "3  0.377436 -1.387024  ...   -0.108300  0.005274 -0.190321 -1.175575   \n",
       "4 -0.270533  0.817739  ...   -0.009431  0.798278 -0.137458  0.141267   \n",
       "\n",
       "        V25       V26       V27       V28  Amount  Class  \n",
       "0  0.128539 -0.189115  0.133558 -0.021053  149.62      0  \n",
       "1  0.167170  0.125895 -0.008983  0.014724    2.69      0  \n",
       "2 -0.327642 -0.139097 -0.055353 -0.059752  378.66      0  \n",
       "3  0.647376 -0.221929  0.062723  0.061458  123.50      0  \n",
       "4 -0.206010  0.502292  0.219422  0.215153   69.99      0  \n",
       "\n",
       "[5 rows x 31 columns]"
      ]
     },
     "execution_count": 26,
     "metadata": {},
     "output_type": "execute_result"
    }
   ],
   "source": [
    "# importing dataset 'creditcard.csv'\n",
    "df = pd.read_csv('creditcard.csv' ,delimiter = ',' , header = 0)\n",
    "# printing the first five rows\n",
    "df.head()"
   ]
  },
  {
   "cell_type": "markdown",
   "metadata": {},
   "source": [
    "* The dataset has 31 columns starting from **'Time'** denotes the time of transaction followed by 28 other features from **'V1 to V28'** which I have no idea what they are following is **'Amount'** denotes the money in transaction and the last is labels **'Class'**, **0** represents **Non Fraudulant** and **'1'** represents **fraudulant** transaction  "
   ]
  },
  {
   "cell_type": "code",
   "execution_count": 27,
   "metadata": {},
   "outputs": [
    {
     "name": "stdout",
     "output_type": "stream",
     "text": [
      "(284807, 31)\n"
     ]
    }
   ],
   "source": [
    "# printing the shape of the dataset\n",
    "print(df.shape)"
   ]
  },
  {
   "cell_type": "code",
   "execution_count": 28,
   "metadata": {},
   "outputs": [
    {
     "name": "stdout",
     "output_type": "stream",
     "text": [
      "Index(['Time', 'V1', 'V2', 'V3', 'V4', 'V5', 'V6', 'V7', 'V8', 'V9', 'V10',\n",
      "       'V11', 'V12', 'V13', 'V14', 'V15', 'V16', 'V17', 'V18', 'V19', 'V20',\n",
      "       'V21', 'V22', 'V23', 'V24', 'V25', 'V26', 'V27', 'V28', 'Amount',\n",
      "       'Class'],\n",
      "      dtype='object')\n"
     ]
    }
   ],
   "source": [
    "#printing the columns of the dataset\n",
    "print(df.columns)"
   ]
  },
  {
   "cell_type": "code",
   "execution_count": 29,
   "metadata": {},
   "outputs": [
    {
     "data": {
      "text/plain": [
       "(142404, 31)"
      ]
     },
     "execution_count": 29,
     "metadata": {},
     "output_type": "execute_result"
    }
   ],
   "source": [
    "# the dataset is big so to build a model we'll use only 50% of the dataset\n",
    "df = df.sample(frac = 0.5 , random_state = 1)\n",
    "df.shape"
   ]
  },
  {
   "cell_type": "code",
   "execution_count": 30,
   "metadata": {},
   "outputs": [],
   "source": [
    "# Creating a data dictionary that gives the overview of the dataset columns\n",
    "Data_dict = pd.DataFrame(df.dtypes)\n",
    "Data_dict['MissingVal'] = df.isnull().sum()\n",
    "Data_dict['UniqueVal'] = df.nunique()\n",
    "Data_dict['Count'] = df.count()\n",
    "Data_dict = Data_dict.rename(columns = {0:'DataType'})\n",
    "Data_dict"
   ]
  },
  {
   "cell_type": "markdown",
   "metadata": {},
   "source": [
    "### Feature Engineering"
   ]
  },
  {
   "cell_type": "code",
   "execution_count": 31,
   "metadata": {},
   "outputs": [
    {
     "name": "stdout",
     "output_type": "stream",
     "text": [
      "0    142177\n",
      "1       227\n",
      "Name: Class, dtype: int64\n"
     ]
    }
   ],
   "source": [
    "# printing the target values '0' stands for non fraudulant transactions and '1' stands for fraudulant transactions\n",
    "print(df.Class.value_counts())"
   ]
  },
  {
   "cell_type": "markdown",
   "metadata": {},
   "source": [
    "* We realise that the dataset is **highly unbalanced** towards a majority class which we can see from the below results.\n",
    "* This could make a major impact on the model we train as it could be potentialy be more **biased** towards the majority class"
   ]
  },
  {
   "cell_type": "markdown",
   "metadata": {},
   "source": [
    "### Data Preprocessing "
   ]
  },
  {
   "cell_type": "code",
   "execution_count": 32,
   "metadata": {},
   "outputs": [
    {
     "name": "stderr",
     "output_type": "stream",
     "text": [
      "c:\\users\\saheel ahmed\\appdata\\local\\programs\\python\\python35\\lib\\site-packages\\ipykernel_launcher.py:3: FutureWarning: reshape is deprecated and will raise in a subsequent release. Please use .values.reshape(...) instead\n",
      "  This is separate from the ipykernel package so we can avoid doing imports until\n"
     ]
    }
   ],
   "source": [
    "from sklearn.preprocessing import StandardScaler\n",
    "\n",
    "# standarding or normalising the 'Amount' scaling between -1 to 1.\n",
    "df['normAmount'] = StandardScaler().fit_transform(df['Amount'].reshape(-1, 1))\n",
    "# droping the 'Time' and 'Amount' column as Time have no effect of the prediction.\n",
    "df.drop(['Time','Amount'],axis=1 , inplace =True )\n"
   ]
  },
  {
   "cell_type": "code",
   "execution_count": 33,
   "metadata": {},
   "outputs": [],
   "source": [
    "# describing the dataset\n",
    "df.describe()"
   ]
  },
  {
   "cell_type": "markdown",
   "metadata": {},
   "source": [
    "### Univariate Data Analysis"
   ]
  },
  {
   "cell_type": "code",
   "execution_count": 34,
   "metadata": {},
   "outputs": [],
   "source": [
    "# plotting each column from the dataset\n",
    "df.hist(figsize = (20,20))\n",
    "plt.show()"
   ]
  },
  {
   "cell_type": "markdown",
   "metadata": {},
   "source": [
    "### Multivariate Data Analysis"
   ]
  },
  {
   "cell_type": "code",
   "execution_count": 35,
   "metadata": {},
   "outputs": [],
   "source": [
    "# ploting correlation matrix \n",
    "def plotting_corr( df , size = 18):\n",
    "    corr = df.corr()\n",
    "    fig , ax = plt.subplots(figsize = (size,size))\n",
    "    cax = ax.matshow(corr)\n",
    "    fig.colorbar(cax, fraction=0.046, pad=0.04)\n",
    "    plt.title('Credit Card Dataset Correlation' , fontsize=28)\n",
    "    plt.xticks(range(len(corr.columns)) , corr.columns);\n",
    "    plt.yticks(range(len(corr.columns)) , corr.columns);\n",
    "\n",
    "plotting_corr(df , size = 18)\n"
   ]
  },
  {
   "cell_type": "code",
   "execution_count": 36,
   "metadata": {},
   "outputs": [],
   "source": [
    "# creating a function to split dataset into testing and training set\n",
    "def data_preparation(df):\n",
    "    df_features= df.iloc[:,df.columns != \"Class\"]\n",
    "    df_labels=df.iloc[:,df.columns==\"Class\"]\n",
    "    X_train, X_test, y_train, y_test = train_test_split(df_features,df_labels,test_size=0.3)\n",
    "    print(\"Length of training data : {}\".format(len(X_train)))\n",
    "    print(\"Length of test data : {}\".format(len(X_test)))\n",
    "    return(X_train, X_test, y_train, y_test)"
   ]
  },
  {
   "cell_type": "code",
   "execution_count": null,
   "metadata": {},
   "outputs": [],
   "source": [
    "# creating a function to building a model along with confusion matrix and auc roc curve\n",
    "def model(model,X_train,X_test,y_train,y_test):\n",
    "    clf= model\n",
    "    clf.fit(X_train,y_train.values.ravel())\n",
    "    pred=clf.predict(X_test)\n",
    "    cnf_matrix=confusion_matrix(y_test,pred)\n",
    "    \n",
    "    print(\"The recall for this model is {}\".format(cnf_matrix[1,1]/(cnf_matrix[1,1]+cnf_matrix[1,0])))\n",
    "    fig= plt.figure(figsize=(6,3))\n",
    "    print(\"TP\",cnf_matrix[1,1,]) # TP denotes True Positive\n",
    "    print(\"TN\",cnf_matrix[0,0]) # TN denotes True Negative\n",
    "    print(\"FP\",cnf_matrix[0,1]) # FP denotes False Positive\n",
    "    print(\"FN\",cnf_matrix[1,0]) # FN denotes False Negative\n",
    "    sns.heatmap(cnf_matrix,cmap=\"coolwarm_r\",annot=True,linewidths=0.5)\n",
    "    plt.title(\"Confusion_matrix\")\n",
    "    plt.xlabel(\"Predicted_class\")\n",
    "    plt.ylabel(\"True class\")\n",
    "    plt.show()\n",
    "    \n",
    "    \n",
    "    print(\"\\n----------Classification Report------------------------------------\")\n",
    "    print(classification_report(y_test,pred))\n",
    "    \n",
    "    print(\"\\n--------------Plotting_AUC_ROC_Curve--------------------------------\")\n",
    "    y_pred_proba = clf.predict_proba(X_test)[::,1]\n",
    "    fpr, tpr, _ = roc_curve(y_test,  y_pred_proba)\n",
    "    auc = roc_auc_score(y_test, y_pred_proba)\n",
    "    plt.plot(fpr,tpr,label=\"data 1, auc=\"+str(auc))\n",
    "    plt.legend(loc=4)\n",
    "    plt.show()"
   ]
  },
  {
   "cell_type": "markdown",
   "metadata": {},
   "source": [
    "### There are various ways to deal with unbalanced dataset like\n",
    "\n",
    "* Random Resampling Techiniques like **Random Under Sampling** , **Random Over Sampling** and **Cluster-Based Over Sampling**.\n",
    "\n",
    "\n",
    "* Informed Over Sampling Techniques like **Synthetic Minority Over Sampling Technique** also known as **SMOTE** or Modified SMOTE .\n",
    "\n",
    "\n",
    "* Then there are Algorithmic Ensemble Techiniques like **Bagging Based** , **Boosting Based** like **ADa Boost** or **Gradient Tree Boosting** or **XG Boost** .\n"
   ]
  },
  {
   "cell_type": "markdown",
   "metadata": {},
   "source": [
    "### First Let's see What is Oversampling and Undersampling.\n",
    "\n",
    "* Dealing with imbalanced datasets entails strategies such as improving classification algorithms or balancing classes in the training data ( data preprocessing ) before providing the input to machine learning algorithm.\n",
    "\n",
    "\n",
    "* The main objective of balancing classes is to either increasing the frequency of the minority class i.e **Over Sampling** or decreasing the frequency of the majority class i.e **Under Sampling**. This is done in order to obtain approximately the same no. of instances for both the classes."
   ]
  },
  {
   "cell_type": "markdown",
   "metadata": {},
   "source": [
    "### For this dataset we'll use Informed Over Sampling Technique Known as SMOTE.\n",
    "\n",
    "* This technique is used to avoid any overfitting which occurs when exact replicas of minority instances are added to the main dataset. A subset of data is then taken from the minority class as sample and then new synthetic instances are created. These synthetic instances are then added to  the original dataset. The new dataset is used as a sample to train the classification model. "
   ]
  },
  {
   "cell_type": "code",
   "execution_count": 46,
   "metadata": {},
   "outputs": [
    {
     "name": "stdout",
     "output_type": "stream",
     "text": [
      "length of training data\n",
      "99682\n",
      "length of test data\n",
      "42722\n"
     ]
    },
    {
     "name": "stderr",
     "output_type": "stream",
     "text": [
      "c:\\users\\saheel ahmed\\appdata\\local\\programs\\python\\python35\\lib\\site-packages\\sklearn\\utils\\validation.py:578: DataConversionWarning: A column-vector y was passed when a 1d array was expected. Please change the shape of y to (n_samples, ), for example using ravel().\n",
      "  y = column_or_1d(y, warn=True)\n",
      "c:\\users\\saheel ahmed\\appdata\\local\\programs\\python\\python35\\lib\\site-packages\\sklearn\\utils\\validation.py:578: DataConversionWarning: A column-vector y was passed when a 1d array was expected. Please change the shape of y to (n_samples, ), for example using ravel().\n",
      "  y = column_or_1d(y, warn=True)\n"
     ]
    },
    {
     "name": "stdout",
     "output_type": "stream",
     "text": [
      "length of oversampled data is  199080\n",
      "Number of normal transcation in oversampled data 99540\n",
      "No.of fraud transcation 99540\n",
      "Proportion of Normal data in oversampled data is  0.5\n",
      "Proportion of fraud data in oversampled data is  0.5\n"
     ]
    }
   ],
   "source": [
    "os = SMOTE(random_state = 0)\n",
    "X_train , X_test , y_train , y_test = data_preparation(df)\n",
    "columns = X_train.columns\n",
    "# oversampling our training dataset for training\n",
    "os_data_X,os_data_y=os.fit_sample(X_train,y_train)\n",
    "os_data_X = pd.DataFrame(data=os_data_X,columns=columns )\n",
    "os_data_y= pd.DataFrame(data=os_data_y,columns=[\"Class\"])\n",
    "\n",
    "print(\"Length of oversampled data is  \",len(os_data_X))\n",
    "print(\"Number of Non fraudulant transaction in oversampled data\",len(os_data_y[os_data_y[\"Class\"]==0]))\n",
    "print(\"No.of fraud transaction in oversampled data\",len(os_data_y[os_data_y[\"Class\"]==1]))\n",
    "print(\"Proportion of Non fraudulant data in oversampled data is \",len(os_data_y[os_data_y[\"Class\"]==0])/len(os_data_X))\n",
    "print(\"Proportion of fraud data in oversampled data is \",len(os_data_y[os_data_y[\"Class\"]==1])/len(os_data_X))"
   ]
  },
  {
   "cell_type": "markdown",
   "metadata": {},
   "source": [
    "### Understanding the confusion matrix and some of the model evaluation metrics\n",
    "\n",
    "* A confusion matrix is a summary of prediction results of a clssification problem.\n",
    "\n",
    "\n",
    "* It shows the ways in which the classification model is confused when it makes the prediction.\n",
    "\n",
    "\n",
    "* Gives you insights not only into the errors being made by your classifier but the types of errors that are being made.\n",
    "\n",
    "\n",
    "**1. What comes inside a confusion matrix**\n",
    "\n",
    "\n",
    "* TP denotes true positive meaning the total no. positive labels which are correctly predicted.\n",
    "\n",
    "\n",
    "* FP denotes false positive meaning the total no. negative labels which are predicted positively.\n",
    "\n",
    "\n",
    "* TN denotes true negative meaning the total no. negative labels which are correctly predicted.\n",
    "\n",
    "\n",
    "* FN denotes false negative meaning the total no. positive labels which are predicted negatively.\n",
    "\n",
    "\n",
    "**2. Model Evaluation Metrics**\n",
    "\n",
    "\n",
    "* **Accuracy** : **(TP+TN)/(TP+TN+FP+FN)**\n",
    "\n",
    "\n",
    "* **Recall(True Postive Rate)** : **TP/(TP+FN)**\n",
    "\n",
    "\n",
    "* **Precision** : **TP/(TP+FP)**\n",
    "\n",
    "\n",
    "* **Specificity(False Positive Rate)** : **FP/(TN+FP)**\n",
    "\n",
    "\n",
    "**3. AUC AND ROC CURVE**\n",
    "\n",
    "\n",
    "* **Area Under Curve or Reciever Operating Characteristics Curve**\n",
    "\n",
    "\n",
    "* X-axis denotes False positive rate\n",
    "\n",
    "\n",
    "* Y-axis denotes True positive rate\n",
    "\n",
    "\n",
    "* For a perfect classifier the ROC curve will go straight up the Y axis and then along the X axis. A classifier with no power will sit on the diagonal, whilst most classifiers fall somewhere in between.\n",
    "\n",
    "\n",
    "* ROC curves also give us the ability to assess the performance of the classifier over its entire operating range.\n",
    "\n",
    "\n",
    "* The AUC for a classifier with no power, essentially random guessing, is 0.5, because the curve follows the diagonal.\n",
    "\n",
    "\n",
    "* The perfect classifier, is 1.0. Most classifiers have AUCs that fall somewhere between these two values\n",
    "\n",
    "\n",
    "* **Top Left Corner**\n",
    "    \n",
    "    * The **ideal point** point.\n",
    "    \n",
    "    * False positive rate of zero.\n",
    "    \n",
    "    * True positve rate of one."
   ]
  },
  {
   "cell_type": "code",
   "execution_count": 47,
   "metadata": {},
   "outputs": [
    {
     "name": "stdout",
     "output_type": "stream",
     "text": [
      "the recall for this model is 0.8470588235294118\n",
      "TP 72\n",
      "TN 42629\n",
      "FP 8\n",
      "FN 13\n"
     ]
    },
    {
     "data": {
      "image/png": "[encoded data removed]",
      "text/plain": [
       "<Figure size 432x216 with 2 Axes>"
      ]
     },
     "metadata": {},
     "output_type": "display_data"
    },
    {
     "name": "stdout",
     "output_type": "stream",
     "text": [
      "\n",
      "----------Classification Report------------------------------------\n",
      "             precision    recall  f1-score   support\n",
      "\n",
      "          0       1.00      1.00      1.00     42637\n",
      "          1       0.90      0.85      0.87        85\n",
      "\n",
      "avg / total       1.00      1.00      1.00     42722\n",
      "\n",
      "\n",
      "--------------Plotting_AUC_ROC_Curve--------------------------------\n"
     ]
    },
    {
     "data": {
      "image/png": "[encoded data removed]",
      "text/plain": [
       "<Figure size 432x288 with 1 Axes>"
      ]
     },
     "metadata": {},
     "output_type": "display_data"
    }
   ],
   "source": [
    "# using Random Forest Classifier as an estimator\n",
    "clf = RandomForestClassifier(n_estimators = 100)\n",
    "# calling the model function\n",
    "model(clf ,os_data_X,X_test , os_data_y , y_test )"
   ]
  },
  {
   "cell_type": "code",
   "execution_count": 40,
   "metadata": {},
   "outputs": [
    {
     "name": "stdout",
     "output_type": "stream",
     "text": [
      "the recall for this model is 0.8636363636363636\n",
      "TP 57\n",
      "TN 42588\n",
      "FP 68\n",
      "FN 9\n"
     ]
    },
    {
     "data": {
      "image/png": "[encoded data removed]",
      "text/plain": [
       "<Figure size 432x216 with 2 Axes>"
      ]
     },
     "metadata": {},
     "output_type": "display_data"
    },
    {
     "name": "stdout",
     "output_type": "stream",
     "text": [
      "\n",
      "----------Classification Report------------------------------------\n",
      "             precision    recall  f1-score   support\n",
      "\n",
      "          0       1.00      1.00      1.00     42656\n",
      "          1       0.46      0.86      0.60        66\n",
      "\n",
      "avg / total       1.00      1.00      1.00     42722\n",
      "\n"
     ]
    }
   ],
   "source": [
    "from sklearn.neighbors import KNeighborsClassifier\n",
    "clf = KNeighborsClassifier(n_neighbors=3)\n",
    "model(clf ,os_data_X,X_test , os_data_y , y_test )"
   ]
  },
  {
   "cell_type": "code",
   "execution_count": null,
   "metadata": {},
   "outputs": [],
   "source": []
  }
 ],
 "metadata": {
  "kernelspec": {
   "display_name": "Python 3",
   "language": "python",
   "name": "python3"
  },
  "language_info": {
   "codemirror_mode": {
    "name": "ipython",
    "version": 3
   },
   "file_extension": ".py",
   "mimetype": "text/x-python",
   "name": "python",
   "nbconvert_exporter": "python",
   "pygments_lexer": "ipython3",
   "version": "3.5.4"
  }
 },
 "nbformat": 4,
 "nbformat_minor": 2
}
